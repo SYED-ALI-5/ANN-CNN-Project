{
 "cells": [
  {
   "cell_type": "markdown",
   "metadata": {},
   "source": [
    "# SP23-BAI-050\n",
    "# SYED AHMAD ALI"
   ]
  },
  {
   "cell_type": "markdown",
   "metadata": {},
   "source": [
    "# PyTorch ANN's CLASSIFICATION\n",
    "# DataSet: MNIST (Modified National Institute of Standards and Technology)"
   ]
  },
  {
   "cell_type": "markdown",
   "metadata": {},
   "source": [
    "# Import Statements"
   ]
  },
  {
   "cell_type": "code",
   "execution_count": 2,
   "metadata": {},
   "outputs": [],
   "source": [
    "import torch\n",
    "import numpy as np\n",
    "import matplotlib.pyplot as plt\n",
    "import torchvision.datasets as raw_dataset\n",
    "from sklearn.model_selection import train_test_split\n",
    "from torch.utils.data import TensorDataset ,DataLoader\n",
    "from sklearn.metrics import confusion_matrix, classification_report\n",
    "import seaborn as sns"
   ]
  },
  {
   "cell_type": "markdown",
   "metadata": {},
   "source": [
    "# Compilation of Data\n",
    "\n",
    "1- Loading the dataset\n",
    "\n",
    "2- Extract images (X) and labels (y) from the dataset\n",
    "\n",
    "3- Converting them to NumPy arrays\n",
    "\n",
    "4- Normalizing the data\n",
    "\n",
    "5- Flatten the images (convert 28x28 images into 784-dimensional vectors)\n",
    "\n",
    "6- Converting to PyTorch tensors"
   ]
  },
  {
   "cell_type": "code",
   "execution_count": 3,
   "metadata": {},
   "outputs": [],
   "source": [
    "def CompilingData():\n",
    "    dataset = raw_dataset.MNIST(root=\"./data\", train=True, download=True)\n",
    "\n",
    "    X = dataset.data\n",
    "    y = dataset.targets\n",
    "\n",
    "    print(\"X Shape:\", X.shape)\n",
    "    print(\"X:\", X)\n",
    "\n",
    "    X = X.numpy()\n",
    "    y = y.numpy()\n",
    "\n",
    "    X = X / 255.0\n",
    "    X = (X - 0.5) / 0.5\n",
    "\n",
    "    X = X.reshape(X.shape[0], -1)\n",
    "\n",
    "    print(\"X_Flaten Shape:\", X.shape)\n",
    "    print(\"X_Flaten:\", X)\n",
    "\n",
    "    X = torch.tensor(X, dtype=torch.float32)\n",
    "    y = torch.tensor(y, dtype=torch.long)\n",
    "\n",
    "    print(\"X_tensor Shape: \", X.shape)\n",
    "    print(\"y_tensor Shape: \", y.shape)\n",
    "    \n",
    "    return X, y"
   ]
  },
  {
   "cell_type": "markdown",
   "metadata": {},
   "source": [
    "# Training The Model\n",
    "\n",
    "1- Initialization of DataLoader\n",
    "\n",
    "2-  Starting the training Over each Batch\n",
    "\n",
    "3-  Updating the weights and biases of the model using backpropagation\n",
    "\n",
    "4-  Computing average loss for the epoch"
   ]
  },
  {
   "cell_type": "code",
   "execution_count": 4,
   "metadata": {},
   "outputs": [],
   "source": [
    "def train_model(model, data, batch_size, n_epoch, loss_fn, optimizer):\n",
    "    train_loader = DataLoader(dataset=data, batch_size=batch_size, shuffle=True)\n",
    "    epoch_losses = []\n",
    "    batch_losses = []\n",
    "    \n",
    "    for epoch in range(n_epoch):\n",
    "        for x_batch, y_batch in train_loader:\n",
    "            model.train()\n",
    "            yhat = model(x_batch)\n",
    "            loss = loss_fn(yhat, y_batch)\n",
    "\n",
    "            optimizer.zero_grad()\n",
    "            loss.backward()\n",
    "            optimizer.step()\n",
    "\n",
    "            batch_losses.append(loss.item())  # Store batch loss\n",
    "        \n",
    "        avg_loss = sum(batch_losses) / len(batch_losses)\n",
    "        epoch_losses.append(avg_loss)  # Store epoch-level loss\n",
    "        print(f\"Epoch {epoch+1}, Average Loss: {avg_loss}\")\n",
    "\n",
    "    return epoch_losses"
   ]
  },
  {
   "cell_type": "markdown",
   "metadata": {},
   "source": [
    "# Evaluation functions for the Model\n",
    "\n",
    "1- Evaluating the model on the test dataset\n",
    "\n",
    "2-  Seting the model to evaluation mode\n",
    "\n",
    "3-  Disabling gradient computation\n",
    "\n",
    "4- Calculating the predictions\n",
    "\n",
    "5- Calculating Accuracy\n",
    "\n",
    "6- Generating confusion matrix\n",
    "\n",
    "7- Generating classification report for precision, recall, and F1-score"
   ]
  },
  {
   "cell_type": "code",
   "execution_count": 5,
   "metadata": {},
   "outputs": [],
   "source": [
    "def evaluate_with_metrics(model, data, batch_size, loss_fn):\n",
    "    test_loader = DataLoader(dataset=data, batch_size=batch_size, shuffle=False)\n",
    "    all_predictions = []\n",
    "    all_labels = []\n",
    "    total_loss = 0\n",
    "    \n",
    "    model.eval()  \n",
    "    with torch.no_grad():  \n",
    "        for x_batch, y_batch in test_loader:\n",
    "            yhat = model(x_batch)\n",
    "            loss = loss_fn(yhat, y_batch)\n",
    "            total_loss += loss.item()\n",
    "            \n",
    "            _, predictions = torch.max(yhat, 1)\n",
    "            all_predictions.extend(predictions.cpu().numpy())  # Store predictions\n",
    "            all_labels.extend(y_batch.cpu().numpy())  # Store true labels\n",
    "    \n",
    "    accuracy = (sum(np.array(all_predictions) == np.array(all_labels)) / len(all_labels)) * 100\n",
    "    avg_loss = total_loss / len(test_loader)\n",
    "    \n",
    "    cm = confusion_matrix(all_labels, all_predictions)\n",
    "    \n",
    "    report = classification_report(all_labels, all_predictions, digits=4)\n",
    "    \n",
    "    return accuracy, avg_loss, cm, report"
   ]
  },
  {
   "cell_type": "markdown",
   "metadata": {},
   "source": [
    "# Making Class for the Model\n",
    "\n",
    "1- Defining the model architecture\n",
    "\n",
    "2- Initializing the weights and biases using Xavier initialization\n",
    "\n",
    "3- Forward pass through the model\n",
    "\n",
    "\n",
    "# Purpose of Xavier Initialization\n",
    "\n",
    "Without proper initialization, weights can grow too large (exploding gradients) or shrink to near-zero (vanishing gradients) as they propagate deep through layers.\n",
    "\n",
    "Xavier initialization ensures the variance of activations remains constant across layers, preventing these issues.\n",
    "\n",
    "# Why No Explicit Softmax with CrossEntropyLoss?\n",
    "\n",
    "\n",
    "CrossEntropyLoss internally combines the Softmax function and the negative log-likelihood (NLL) loss.\n",
    "\n",
    "When you pass raw logits (unscaled outputs from your model) to CrossEntropyLoss, it first applies Softmax to convert them into probabilities and then calculates the loss.\n",
    "\n",
    "# Double Application of Softmax:\n",
    "\n",
    "If you explicitly apply Softmax in your model and then use CrossEntropyLoss, you're applying Softmax twice, which will distort the loss calculation and lead to incorrect results.\n",
    "\n"
   ]
  },
  {
   "cell_type": "code",
   "execution_count": 6,
   "metadata": {},
   "outputs": [],
   "source": [
    "class CustomClassificationModel(torch.nn.Module):\n",
    "    def __init__(self, input_size, hidden_size1, hidden_size2, hidden_size3, hidden_size4, hidden_size5, output_size):\n",
    "        super(CustomClassificationModel, self).__init__()\n",
    "        self.W1 = torch.randn(input_size, hidden_size1, requires_grad=True)\n",
    "        self.b1 = torch.randn(hidden_size1, requires_grad=True)\n",
    "        self.W2 = torch.randn(hidden_size1, hidden_size2, requires_grad=True)\n",
    "        self.b2 = torch.randn(hidden_size2, requires_grad=True)\n",
    "        self.W3 = torch.randn(hidden_size2, hidden_size3, requires_grad=True)\n",
    "        self.b3 = torch.randn(hidden_size3, requires_grad=True)\n",
    "        self.W4 = torch.randn(hidden_size3, hidden_size4, requires_grad=True)\n",
    "        self.b4 = torch.randn(hidden_size4, requires_grad=True)\n",
    "        self.W5 = torch.randn(hidden_size4, hidden_size5, requires_grad=True)\n",
    "        self.b5 = torch.randn(hidden_size5, requires_grad=True)\n",
    "        self.W6 = torch.randn(hidden_size5, output_size, requires_grad=True)\n",
    "        self.b6 = torch.randn(output_size, requires_grad=True)\n",
    "        \n",
    "        torch.nn.init.xavier_normal_(self.W1)\n",
    "        torch.nn.init.xavier_normal_(self.W2)\n",
    "        torch.nn.init.xavier_normal_(self.W3)\n",
    "        torch.nn.init.xavier_normal_(self.W4)\n",
    "        torch.nn.init.xavier_normal_(self.W5)\n",
    "        torch.nn.init.xavier_normal_(self.W6)\n",
    "    \n",
    "    def forward(self, input_data):\n",
    "        hidden1 = torch.relu((input_data @ self.W1 + self.b1))\n",
    "        hidden2 = torch.relu((hidden1 @ self.W2 + self.b2))\n",
    "        hidden3 = torch.relu((hidden2 @ self.W3 + self.b3))\n",
    "        hidden4 = torch.relu((hidden3 @ self.W4 + self.b4))\n",
    "        hidden5 = torch.relu((hidden4 @ self.W5 + self.b5))\n",
    "        output = hidden5 @ self.W6 + self.b6\n",
    "\n",
    "        return output"
   ]
  },
  {
   "cell_type": "markdown",
   "metadata": {},
   "source": [
    "# Main function\n",
    "\n",
    "1- Compiling the data\n",
    "\n",
    "2- Splitting the dataset into training and testing sets\n",
    "\n",
    "3- Creating Tensor dataset\n",
    "\n",
    "4- Creating a custom classification model\n",
    "\n",
    "5- Converting training dataset in Tensor Dataset\n",
    "\n",
    "6- Initializing the Optimizer\n",
    "\n",
    "7- Training the model"
   ]
  },
  {
   "cell_type": "code",
   "execution_count": 7,
   "metadata": {},
   "outputs": [
    {
     "name": "stdout",
     "output_type": "stream",
     "text": [
      "X Shape: torch.Size([60000, 28, 28])\n",
      "X: tensor([[[0, 0, 0,  ..., 0, 0, 0],\n",
      "         [0, 0, 0,  ..., 0, 0, 0],\n",
      "         [0, 0, 0,  ..., 0, 0, 0],\n",
      "         ...,\n",
      "         [0, 0, 0,  ..., 0, 0, 0],\n",
      "         [0, 0, 0,  ..., 0, 0, 0],\n",
      "         [0, 0, 0,  ..., 0, 0, 0]],\n",
      "\n",
      "        [[0, 0, 0,  ..., 0, 0, 0],\n",
      "         [0, 0, 0,  ..., 0, 0, 0],\n",
      "         [0, 0, 0,  ..., 0, 0, 0],\n",
      "         ...,\n",
      "         [0, 0, 0,  ..., 0, 0, 0],\n",
      "         [0, 0, 0,  ..., 0, 0, 0],\n",
      "         [0, 0, 0,  ..., 0, 0, 0]],\n",
      "\n",
      "        [[0, 0, 0,  ..., 0, 0, 0],\n",
      "         [0, 0, 0,  ..., 0, 0, 0],\n",
      "         [0, 0, 0,  ..., 0, 0, 0],\n",
      "         ...,\n",
      "         [0, 0, 0,  ..., 0, 0, 0],\n",
      "         [0, 0, 0,  ..., 0, 0, 0],\n",
      "         [0, 0, 0,  ..., 0, 0, 0]],\n",
      "\n",
      "        ...,\n",
      "\n",
      "        [[0, 0, 0,  ..., 0, 0, 0],\n",
      "         [0, 0, 0,  ..., 0, 0, 0],\n",
      "         [0, 0, 0,  ..., 0, 0, 0],\n",
      "         ...,\n",
      "         [0, 0, 0,  ..., 0, 0, 0],\n",
      "         [0, 0, 0,  ..., 0, 0, 0],\n",
      "         [0, 0, 0,  ..., 0, 0, 0]],\n",
      "\n",
      "        [[0, 0, 0,  ..., 0, 0, 0],\n",
      "         [0, 0, 0,  ..., 0, 0, 0],\n",
      "         [0, 0, 0,  ..., 0, 0, 0],\n",
      "         ...,\n",
      "         [0, 0, 0,  ..., 0, 0, 0],\n",
      "         [0, 0, 0,  ..., 0, 0, 0],\n",
      "         [0, 0, 0,  ..., 0, 0, 0]],\n",
      "\n",
      "        [[0, 0, 0,  ..., 0, 0, 0],\n",
      "         [0, 0, 0,  ..., 0, 0, 0],\n",
      "         [0, 0, 0,  ..., 0, 0, 0],\n",
      "         ...,\n",
      "         [0, 0, 0,  ..., 0, 0, 0],\n",
      "         [0, 0, 0,  ..., 0, 0, 0],\n",
      "         [0, 0, 0,  ..., 0, 0, 0]]], dtype=torch.uint8)\n",
      "X_Flaten Shape: (60000, 784)\n",
      "X_Flaten: [[-1. -1. -1. ... -1. -1. -1.]\n",
      " [-1. -1. -1. ... -1. -1. -1.]\n",
      " [-1. -1. -1. ... -1. -1. -1.]\n",
      " ...\n",
      " [-1. -1. -1. ... -1. -1. -1.]\n",
      " [-1. -1. -1. ... -1. -1. -1.]\n",
      " [-1. -1. -1. ... -1. -1. -1.]]\n",
      "X_tensor Shape:  torch.Size([60000, 784])\n",
      "y_tensor Shape:  torch.Size([60000])\n",
      "X_train Shape:  torch.Size([48000, 784])\n",
      "y_train Shape:  torch.Size([48000])\n",
      "X_test Shape:  torch.Size([12000, 784])\n",
      "y_test Shape:  torch.Size([12000])\n",
      "Epoch 1, Average Loss: 0.6903254501211147\n",
      "Epoch 2, Average Loss: 0.49374695763690396\n",
      "Epoch 3, Average Loss: 0.4059927470464673\n",
      "Epoch 4, Average Loss: 0.352308674158121\n",
      "Epoch 5, Average Loss: 0.31434005382082736\n",
      "Epoch 6, Average Loss: 0.2853194740665559\n",
      "Epoch 7, Average Loss: 0.2623007771972057\n",
      "Epoch 8, Average Loss: 0.2431833532288086\n",
      "Epoch 9, Average Loss: 0.22702924555608964\n",
      "Epoch 10, Average Loss: 0.21312741223967654\n",
      "Epoch 11, Average Loss: 0.20104649993643928\n",
      "Epoch 12, Average Loss: 0.19044065097067586\n",
      "Epoch 13, Average Loss: 0.1809592243960651\n",
      "Epoch 14, Average Loss: 0.17234002558488143\n",
      "Epoch 15, Average Loss: 0.16459302564287404\n",
      "Epoch 16, Average Loss: 0.15751434346899865\n",
      "Epoch 17, Average Loss: 0.15101637998061906\n",
      "Epoch 18, Average Loss: 0.1450534329733778\n",
      "Epoch 19, Average Loss: 0.1395652917143244\n",
      "Epoch 20, Average Loss: 0.1344475751983191\n"
     ]
    }
   ],
   "source": [
    "X, y = CompilingData()\n",
    "\n",
    "X_train, X_test, y_train, y_test = train_test_split(X, y, test_size=0.2, random_state=42)\n",
    "\n",
    "print(\"X_train Shape: \", X_train.shape)\n",
    "print(\"y_train Shape: \", y_train.shape)\n",
    "print(\"X_test Shape: \", X_test.shape)\n",
    "print(\"y_test Shape: \", y_test.shape)\n",
    "\n",
    "input = 784\n",
    "hidden_size1 = 200\n",
    "hidden_size2 = 170\n",
    "hidden_size3 = 140\n",
    "hidden_size4 = 90\n",
    "hidden_size5 = 50\n",
    "output_size = 10\n",
    "learning_rate = 0.01\n",
    "batch_size = 50\n",
    "epochs = 20\n",
    "\n",
    "model = CustomClassificationModel(input_size=input, hidden_size1=hidden_size1, hidden_size2=hidden_size2, hidden_size3=hidden_size3, hidden_size4=hidden_size4, hidden_size5=hidden_size5, output_size=output_size)\n",
    "train_dataset = TensorDataset(X_train, y_train)\n",
    "loss_fn = torch.nn.CrossEntropyLoss()\n",
    "optimizer = torch.optim.SGD([model.W1, model.b1, model.W2, model.b2, model.W3, model.b3, model.W4, model.b4, model.W5, model.b5, model.W6, model.b6],lr=learning_rate)\n",
    "epoch_loses = train_model(model=model, data=train_dataset, batch_size=batch_size, n_epoch=epochs, loss_fn=loss_fn, optimizer=optimizer)"
   ]
  },
  {
   "cell_type": "markdown",
   "metadata": {},
   "source": [
    "# Ploting The Loss Reduction during training"
   ]
  },
  {
   "cell_type": "code",
   "execution_count": 8,
   "metadata": {},
   "outputs": [
    {
     "data": {
      "image/png": "[encoded data removed]",
      "text/plain": [
       "<Figure size 640x480 with 1 Axes>"
      ]
     },
     "metadata": {},
     "output_type": "display_data"
    }
   ],
   "source": [
    "plt.plot(range(epochs), epoch_loses)\n",
    "plt.xlabel('Epoch')\n",
    "plt.ylabel('Loss')\n",
    "plt.title('Loss Curve')\n",
    "plt.show()"
   ]
  },
  {
   "cell_type": "markdown",
   "metadata": {},
   "source": [
    "# Testing the Model\n",
    "\n",
    "1- Displaying results\n",
    "\n",
    "2- Ploting and Displaying confusion matrix\n",
    "\n",
    "3- Displaying Classification Report"
   ]
  },
  {
   "cell_type": "code",
   "execution_count": 9,
   "metadata": {},
   "outputs": [
    {
     "name": "stdout",
     "output_type": "stream",
     "text": [
      "Test Accuracy: 97.17%\n",
      "Test Loss: 0.0926\n",
      "\n",
      "Confusion Matrix:\n",
      "[[1155    0    7    0    2    2    3    1    2    3]\n",
      " [   0 1307    7    1    3    0    2    2    0    0]\n",
      " [   0    5 1153    1    0    0    1   11    2    1]\n",
      " [   0    1   18 1172    1   11    1    6    5    4]\n",
      " [   0    1    3    0 1142    0    7   10    0   13]\n",
      " [   2    1    5   13    3 1061    7    4    4    4]\n",
      " [   3    0    5    0    3    2 1162    0    2    0]\n",
      " [   1    4   11    0    0    0    0 1278    1    4]\n",
      " [   4    4   11   21    5    5    4    3 1093   10]\n",
      " [   3    2    1    4   15    3    0   25    3 1138]]\n"
     ]
    },
    {
     "data": {
      "image/png": "[encoded data removed]",
      "text/plain": [
       "<Figure size 1000x800 with 2 Axes>"
      ]
     },
     "metadata": {},
     "output_type": "display_data"
    },
    {
     "name": "stdout",
     "output_type": "stream",
     "text": [
      "\n",
      "Classification Report:\n",
      "              precision    recall  f1-score   support\n",
      "\n",
      "           0     0.9889    0.9830    0.9859      1175\n",
      "           1     0.9864    0.9887    0.9875      1322\n",
      "           2     0.9443    0.9821    0.9628      1174\n",
      "           3     0.9670    0.9614    0.9642      1219\n",
      "           4     0.9727    0.9711    0.9719      1176\n",
      "           5     0.9788    0.9611    0.9698      1104\n",
      "           6     0.9789    0.9873    0.9831      1177\n",
      "           7     0.9537    0.9838    0.9685      1299\n",
      "           8     0.9829    0.9422    0.9621      1160\n",
      "           9     0.9669    0.9531    0.9599      1194\n",
      "\n",
      "    accuracy                         0.9718     12000\n",
      "   macro avg     0.9721    0.9714    0.9716     12000\n",
      "weighted avg     0.9720    0.9718    0.9717     12000\n",
      "\n"
     ]
    }
   ],
   "source": [
    "\n",
    "test_dataset = TensorDataset(X_test, y_test)\n",
    "accuracy, avg_loss, cm, report = evaluate_with_metrics(model=model, data=test_dataset, batch_size=batch_size, loss_fn=loss_fn)\n",
    "\n",
    "print(f\"Test Accuracy: {accuracy:.2f}%\")\n",
    "print(f\"Test Loss: {avg_loss:.4f}\")\n",
    "print(\"\\nConfusion Matrix:\")\n",
    "print(cm)\n",
    "\n",
    "plt.figure(figsize=(10, 8))\n",
    "sns.heatmap(cm, annot=True, fmt=\"d\", cmap=\"Blues\", xticklabels=list(range(10)), yticklabels=list(range(10)))\n",
    "plt.xlabel(\"Predicted\")\n",
    "plt.ylabel(\"Actual\")\n",
    "plt.title(\"Confusion Matrix\")\n",
    "plt.show()\n",
    "\n",
    "print(\"\\nClassification Report:\")\n",
    "print(report)"
   ]
  }
 ],
 "metadata": {
  "kernelspec": {
   "display_name": "Python 3",
   "language": "python",
   "name": "python3"
  },
  "language_info": {
   "codemirror_mode": {
    "name": "ipython",
    "version": 3
   },
   "file_extension": ".py",
   "mimetype": "text/x-python",
   "name": "python",
   "nbconvert_exporter": "python",
   "pygments_lexer": "ipython3",
   "version": "3.9.6"
  }
 },
 "nbformat": 4,
 "nbformat_minor": 2
}
