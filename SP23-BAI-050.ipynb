{
 "cells": [
  {
   "cell_type": "markdown",
   "metadata": {},
   "source": [
    "# SP23-BAI-050\n",
    "# SYED AHMAD ALI"
   ]
  },
  {
   "cell_type": "markdown",
   "metadata": {},
   "source": [
    "# PyTorch ANN's CLASSIFICATION\n",
    "DataSet: MNIST (Modified National Institute of Standards and Technology)"
   ]
  },
  {
   "cell_type": "markdown",
   "metadata": {},
   "source": [
    "# Import Statements"
   ]
  },
  {
   "cell_type": "code",
   "execution_count": 1,
   "metadata": {},
   "outputs": [],
   "source": [
    "import torch\n",
    "import matplotlib.pyplot as plt\n",
    "from torchvision import datasets, transforms\n",
    "from torch.utils.data import DataLoader"
   ]
  },
  {
   "cell_type": "markdown",
   "metadata": {},
   "source": [
    "# Flattening and Normalizing the data"
   ]
  },
  {
   "cell_type": "code",
   "execution_count": 2,
   "metadata": {},
   "outputs": [],
   "source": [
    "transform = transforms.Compose([\n",
    "    transforms.ToTensor(),  # Convert to tensor\n",
    "    transforms.Normalize((0.5,), (0.5,))  # Normalize to range [-1, 1]\n",
    "])"
   ]
  },
  {
   "cell_type": "markdown",
   "metadata": {},
   "source": [
    "# Loading the dataset"
   ]
  },
  {
   "cell_type": "code",
   "execution_count": 3,
   "metadata": {},
   "outputs": [],
   "source": [
    "train_dataset = datasets.MNIST(root='./data', train=True, transform=transform, download=True)\n",
    "test_dataset = datasets.MNIST(root='./data', train=False, transform=transform, download=True)"
   ]
  },
  {
   "cell_type": "markdown",
   "metadata": {},
   "source": [
    "# Creating data (Train/Test) loaders with Batches of 50"
   ]
  },
  {
   "cell_type": "code",
   "execution_count": 4,
   "metadata": {},
   "outputs": [],
   "source": [
    "batch_size = 50\n",
    "train_loader = DataLoader(train_dataset, batch_size=batch_size, shuffle=True)\n",
    "test_loader = DataLoader(test_dataset, batch_size=batch_size, shuffle=False)"
   ]
  },
  {
   "cell_type": "markdown",
   "metadata": {},
   "source": [
    "#"
   ]
  },
  {
   "cell_type": "code",
   "execution_count": null,
   "metadata": {},
   "outputs": [],
   "source": []
  },
  {
   "cell_type": "markdown",
   "metadata": {},
   "source": [
    "# Displaying some images and their labels"
   ]
  },
  {
   "cell_type": "code",
   "execution_count": null,
   "metadata": {},
   "outputs": [],
   "source": [
    "images_list, labels_list = [], []\n",
    "\n",
    "# Loop through batches until we gather 144 samples\n",
    "for batch_images, batch_labels in train_loader:\n",
    "    images_list.append(batch_images)\n",
    "    labels_list.append(batch_labels)\n",
    "    if len(images_list) * batch_size >= 144:  # Stop once we have enough samples\n",
    "        break\n",
    "\n",
    "# Combine collected batches into a single tensor\n",
    "images = torch.cat(images_list, dim=0)[:144]\n",
    "labels = torch.cat(labels_list, dim=0)[:144]\n",
    "\n",
    "# Plot the first 144 images\n",
    "fig, axes = plt.subplots(12, 12, figsize=(24, 24))  # Create a 12x12 grid of subplots\n",
    "for i in range(144):  # Loop through the first 144 images\n",
    "    row, col = divmod(i, 12)  # Calculate row and column indices for the grid\n",
    "    axes[row, col].imshow(images[i].numpy().squeeze(), cmap='gray')  # Plot the image\n",
    "    axes[row, col].set_title(f\"Label: {labels[i].item()}\", fontsize=8)  # Set the label\n",
    "    axes[row, col].axis('off')  # Turn off axes for better clarity\n",
    "plt.tight_layout()  # Adjust spacing between subplots\n",
    "plt.show()  # Display the plot"
   ]
  }
 ],
 "metadata": {
  "kernelspec": {
   "display_name": "Python 3",
   "language": "python",
   "name": "python3"
  },
  "language_info": {
   "codemirror_mode": {
    "name": "ipython",
    "version": 3
   },
   "file_extension": ".py",
   "mimetype": "text/x-python",
   "name": "python",
   "nbconvert_exporter": "python",
   "pygments_lexer": "ipython3",
   "version": "3.9.6"
  }
 },
 "nbformat": 4,
 "nbformat_minor": 2
}
